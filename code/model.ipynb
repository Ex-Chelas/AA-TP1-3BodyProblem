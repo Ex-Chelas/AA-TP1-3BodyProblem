{
 "cells": [
  {
   "metadata": {},
   "cell_type": "markdown",
   "source": [
    "1. Load the data set\n",
    "2. Display the first rows of the data set"
   ],
   "id": "b29321ca9e3f982b"
  },
  {
   "metadata": {
    "ExecuteTime": {
     "end_time": "2024-09-30T00:42:10.842357Z",
     "start_time": "2024-09-30T00:42:08.147747Z"
    }
   },
   "cell_type": "code",
   "source": [
    "import pandas as pd\n",
    "\n",
    "def load_data_frame(path):\n",
    "    \"\"\"\n",
    "    Load data set from file path\n",
    "    :param path: the path of the file to turn into a data set\n",
    "    :return: a created data set based on the header of the file\n",
    "    \"\"\"\n",
    "    return pd.read_csv(path)\n",
    "\n",
    "df = load_data_frame('../data/X_train.csv')\n",
    "print(df.head())"
   ],
   "id": "eea591ee5bdcd774",
   "outputs": [
    {
     "name": "stdout",
     "output_type": "stream",
     "text": [
      "          t       x_1       y_1     v_x_1     v_y_1       x_2       y_2  \\\n",
      "0  0.000000  1.000000  0.000000  0.000000  0.000000 -0.266467  0.859196   \n",
      "1  0.039062  0.999548  0.000092 -0.023159  0.004731 -0.266261  0.858781   \n",
      "2  0.078125  0.998190  0.000370 -0.046362  0.009474 -0.265641  0.857535   \n",
      "3  0.117188  0.995925  0.000833 -0.069654  0.014239 -0.264606  0.855456   \n",
      "4  0.156250  0.992747  0.001483 -0.093080  0.019040 -0.263154  0.852540   \n",
      "\n",
      "      v_x_2     v_y_2       x_3       y_3     v_x_3     v_y_3  Id  \n",
      "0  0.000000  0.000000 -0.733533 -0.859196  0.000000  0.000000   0  \n",
      "1  0.010574 -0.021257 -0.733287 -0.858874  0.012584  0.016526   1  \n",
      "2  0.021172 -0.042552 -0.732549 -0.857905  0.025189  0.033078   2  \n",
      "3  0.031817 -0.063924 -0.731318 -0.856289  0.037837  0.049685   3  \n",
      "4  0.042533 -0.085412 -0.729592 -0.854022  0.050548  0.066372   4  \n"
     ]
    }
   ],
   "execution_count": 1
  },
  {
   "metadata": {},
   "cell_type": "markdown",
   "source": "Then we sanitize the data set by removing the columns that are not useful for the model. We also remove the rows with missing values.",
   "id": "8a6079167e990a95"
  },
  {
   "cell_type": "code",
   "id": "initial_id",
   "metadata": {
    "collapsed": true,
    "ExecuteTime": {
     "end_time": "2024-09-30T01:00:36.830934Z",
     "start_time": "2024-09-30T01:00:36.573398Z"
    }
   },
   "source": [
    "import numpy as np\n",
    "\n",
    "def sanitize_data_set(data_frame):\n",
    "    \"\"\"\n",
    "    Sanitize the data set by removing the rows that are not useful for the model (Nan values, etc.)\n",
    "    :param data_frame: the data set to sanitize\n",
    "    :return: the sanitized data set\n",
    "    \"\"\"\n",
    "    ## data_set = data_set.drop(['Id'], axis=1) # we might wanna merge train and test data\n",
    "    data_frame = data_frame.replace(0, np.nan)\n",
    "    data_frame = data_frame.dropna(axis=0, how='all')\n",
    "    data_frame = data_frame.replace(np.nan, 0)\n",
    "    return data_frame\n",
    "\n",
    "df = sanitize_data_set(df)\n",
    "print(df.head())"
   ],
   "outputs": [
    {
     "name": "stdout",
     "output_type": "stream",
     "text": [
      "          t       x_1       y_1     v_x_1     v_y_1       x_2       y_2  \\\n",
      "0  0.000000  1.000000  0.000000  0.000000  0.000000 -0.266467  0.859196   \n",
      "1  0.039062  0.999548  0.000092 -0.023159  0.004731 -0.266261  0.858781   \n",
      "2  0.078125  0.998190  0.000370 -0.046362  0.009474 -0.265641  0.857535   \n",
      "3  0.117188  0.995925  0.000833 -0.069654  0.014239 -0.264606  0.855456   \n",
      "4  0.156250  0.992747  0.001483 -0.093080  0.019040 -0.263154  0.852540   \n",
      "\n",
      "      v_x_2     v_y_2       x_3       y_3     v_x_3     v_y_3   Id  \n",
      "0  0.000000  0.000000 -0.733533 -0.859196  0.000000  0.000000  0.0  \n",
      "1  0.010574 -0.021257 -0.733287 -0.858874  0.012584  0.016526  1.0  \n",
      "2  0.021172 -0.042552 -0.732549 -0.857905  0.025189  0.033078  2.0  \n",
      "3  0.031817 -0.063924 -0.731318 -0.856289  0.037837  0.049685  3.0  \n",
      "4  0.042533 -0.085412 -0.729592 -0.854022  0.050548  0.066372  4.0  \n"
     ]
    }
   ],
   "execution_count": 22
  },
  {
   "metadata": {},
   "cell_type": "markdown",
   "source": "Now we do the same for the target data set.",
   "id": "23a4bd091eadf25"
  },
  {
   "metadata": {
    "ExecuteTime": {
     "end_time": "2024-09-30T01:00:39.797441Z",
     "start_time": "2024-09-30T01:00:38.650014Z"
    }
   },
   "cell_type": "code",
   "source": [
    "target_df = load_data_frame('../data/X_test.csv')\n",
    "target_df = sanitize_data_set(target_df)\n",
    "print(target_df.head())"
   ],
   "id": "5ec06c4d7a4c4c92",
   "outputs": [
    {
     "name": "stdout",
     "output_type": "stream",
     "text": [
      "    Id         t  x0_1  y0_1      x0_2      y0_2      x0_3      y0_3\n",
      "0  0.0  0.000000   1.0   0.0 -0.179617  0.730085 -0.820383 -0.730085\n",
      "1  1.0  0.039062   1.0   0.0 -0.179617  0.730085 -0.820383 -0.730085\n",
      "2  2.0  0.078125   1.0   0.0 -0.179617  0.730085 -0.820383 -0.730085\n",
      "3  3.0  0.117188   1.0   0.0 -0.179617  0.730085 -0.820383 -0.730085\n",
      "4  4.0  0.156250   1.0   0.0 -0.179617  0.730085 -0.820383 -0.730085\n"
     ]
    }
   ],
   "execution_count": 23
  },
  {
   "metadata": {},
   "cell_type": "markdown",
   "source": "Now we merge the data frames by their 'Id' column and drop all columns with only zeros, or if the 'Id's are not in both data frames.",
   "id": "ad3b4941a1e78a31"
  },
  {
   "metadata": {
    "ExecuteTime": {
     "end_time": "2024-09-30T01:00:42.163895Z",
     "start_time": "2024-09-30T01:00:41.222478Z"
    }
   },
   "cell_type": "code",
   "source": [
    "def merge_data_frames(data_frame, target_data_frame):\n",
    "    \"\"\"\n",
    "    Merge two data frames by their 'Id' column\n",
    "    :param data_frame: the first data frame\n",
    "    :param target_data_frame: the second data frame\n",
    "    :return: the merged data frame\n",
    "    \"\"\"\n",
    "    merged_data_frame = pd.merge(data_frame, target_data_frame, how='inner', on=['Id','t'])\n",
    "    return merged_data_frame\n",
    "\n",
    "merged_df = merge_data_frames(df, target_df)\n",
    "merged_df = sanitize_data_set(merged_df)\n",
    "print(merged_df.head())"
   ],
   "id": "da78c973d45ec1c9",
   "outputs": [
    {
     "name": "stdout",
     "output_type": "stream",
     "text": [
      "          t       x_1       y_1     v_x_1     v_y_1       x_2       y_2  \\\n",
      "0  0.000000  1.000000  0.000000  0.000000  0.000000 -0.266467  0.859196   \n",
      "1  0.039062  0.999548  0.000092 -0.023159  0.004731 -0.266261  0.858781   \n",
      "2  0.078125  0.998190  0.000370 -0.046362  0.009474 -0.265641  0.857535   \n",
      "3  0.117188  0.995925  0.000833 -0.069654  0.014239 -0.264606  0.855456   \n",
      "4  0.156250  0.992747  0.001483 -0.093080  0.019040 -0.263154  0.852540   \n",
      "\n",
      "      v_x_2     v_y_2       x_3       y_3     v_x_3     v_y_3   Id  x0_1  \\\n",
      "0  0.000000  0.000000 -0.733533 -0.859196  0.000000  0.000000  0.0   1.0   \n",
      "1  0.010574 -0.021257 -0.733287 -0.858874  0.012584  0.016526  1.0   1.0   \n",
      "2  0.021172 -0.042552 -0.732549 -0.857905  0.025189  0.033078  2.0   1.0   \n",
      "3  0.031817 -0.063924 -0.731318 -0.856289  0.037837  0.049685  3.0   1.0   \n",
      "4  0.042533 -0.085412 -0.729592 -0.854022  0.050548  0.066372  4.0   1.0   \n",
      "\n",
      "   y0_1      x0_2      y0_2      x0_3      y0_3  \n",
      "0   0.0 -0.179617  0.730085 -0.820383 -0.730085  \n",
      "1   0.0 -0.179617  0.730085 -0.820383 -0.730085  \n",
      "2   0.0 -0.179617  0.730085 -0.820383 -0.730085  \n",
      "3   0.0 -0.179617  0.730085 -0.820383 -0.730085  \n",
      "4   0.0 -0.179617  0.730085 -0.820383 -0.730085  \n"
     ]
    }
   ],
   "execution_count": 24
  },
  {
   "metadata": {},
   "cell_type": "markdown",
   "source": "Now we split the data set into the features and the target, by adding also the 'Id' column to both data frames, as it was before.",
   "id": "70719f03752611a1"
  },
  {
   "metadata": {
    "ExecuteTime": {
     "end_time": "2024-09-30T01:02:16.435493Z",
     "start_time": "2024-09-30T01:02:16.358394Z"
    }
   },
   "cell_type": "code",
   "source": [
    "def split_data_frame(data_frame, target_columns):\n",
    "    \"\"\"\n",
    "    Split the data frame into the features and the target\n",
    "    :param target_columns: the columns of the target data frame\n",
    "    :param data_frame: the data frame to split\n",
    "    :return: the features and the target\n",
    "    \"\"\"\n",
    "    features = data_frame.drop(columns=target_columns[1:], axis=1)\n",
    "    features['Id'] = features.index\n",
    "    target = data_frame[target_df.columns]\n",
    "    target.loc[:, 'Id'] = target.index\n",
    "    return features, target\n",
    "print(merged_df.columns)\n",
    "target_column_names = target_df.columns[1:]\n",
    "df_features, df_target = split_data_frame(merged_df, target_column_names)"
   ],
   "id": "24f229f4539a6607",
   "outputs": [
    {
     "name": "stdout",
     "output_type": "stream",
     "text": [
      "Index(['t', 'x_1', 'y_1', 'v_x_1', 'v_y_1', 'x_2', 'y_2', 'v_x_2', 'v_y_2',\n",
      "       'x_3', 'y_3', 'v_x_3', 'v_y_3', 'Id', 'x0_1', 'y0_1', 'x0_2', 'y0_2',\n",
      "       'x0_3', 'y0_3'],\n",
      "      dtype='object')\n"
     ]
    }
   ],
   "execution_count": 26
  },
  {
   "metadata": {},
   "cell_type": "markdown",
   "source": [
    "TODO: Somehow i lost the column t that represented the time. to be fixed.\n",
    "\n",
    "RC: FOUND IT! TO be precise it never went anywhere, but when it merged in id, it decided to create a t_x and a t_y\n",
    "merging on on=['Id','t'] instead works! (and makes sense)\n",
    "\n",
    "Also changed target['Id']=target.index to target.loc[:, 'Id'] = target.index, because the first one changes the view! with the loc with change the data frame itself, avoiding weird occurrences, as per docs of panda"
   ],
   "id": "bfc47323174bb520"
  }
 ],
 "metadata": {
  "kernelspec": {
   "display_name": "Python 3",
   "language": "python",
   "name": "python3"
  },
  "language_info": {
   "codemirror_mode": {
    "name": "ipython",
    "version": 2
   },
   "file_extension": ".py",
   "mimetype": "text/x-python",
   "name": "python",
   "nbconvert_exporter": "python",
   "pygments_lexer": "ipython2",
   "version": "2.7.6"
  }
 },
 "nbformat": 4,
 "nbformat_minor": 5
}
